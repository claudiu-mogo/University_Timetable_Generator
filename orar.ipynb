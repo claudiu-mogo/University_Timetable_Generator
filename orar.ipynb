{
 "cells": [
  {
   "cell_type": "markdown",
   "metadata": {},
   "source": [
    "### Imports and macros"
   ]
  },
  {
   "cell_type": "code",
   "execution_count": 13,
   "metadata": {},
   "outputs": [],
   "source": [
    "from __future__ import annotations\n",
    "from typing import Callable\n",
    "from copy import copy, deepcopy\n",
    "from collections import defaultdict\n",
    "from functools import reduce\n",
    "import random\n",
    "import os\n",
    "import sys\n",
    "\n",
    "import numpy as np\n",
    "import utils\n",
    "import check_constraints\n",
    "\n",
    "INTERVALE = 'Intervale'\n",
    "ZILE = 'Zile'\n",
    "MATERII = 'Materii'\n",
    "PROFESORI = 'Profesori'\n",
    "SALI = 'Sali'\n",
    "STUDENTI = 'Nr. studenti'\n",
    "CONSTRANGERI = 'Constrangeri'\n",
    "PROF_WEEK_COUNT = 'Aparitii profesori'\n",
    "TEACHER_ORDER = 'Ordine profesori'\n",
    "PAUSES = 2\n",
    "ARGUMENTS = 1\n",
    "\n",
    "#------------------------------------------------------\n",
    "# MCTS constants\n",
    "\n",
    "N = 'N'\n",
    "Q = 'Q'\n",
    "STATE = 'state'\n",
    "PARENT = 'parent'\n",
    "ACTIONS = 'actions'\n",
    "from math import sqrt, log\n",
    "\n",
    "# lab utils\n",
    "# constanta care reglează raportul între explorare și exploatare (CP = 0 -> doar exploatare)\n",
    "CP = 1.0 / sqrt(2.0)"
   ]
  },
  {
   "cell_type": "markdown",
   "metadata": {},
   "source": [
    "### Make data more usable for me"
   ]
  },
  {
   "cell_type": "code",
   "execution_count": 14,
   "metadata": {},
   "outputs": [
    {
     "name": "stdout",
     "output_type": "stream",
     "text": [
      "{'Zile': ['Vineri', 'Luni', 'Marti', 'Joi', 'Miercuri'], 'Intervale': [(16, 18), (18, 20), (12, 14), (14, 16), (10, 12), (8, 10)], 'Materii': {'DS': {'Nr. studenti': 515, 'Profesori': ['Sergiu Adamescu', 'Elena Stoica', 'Mihai Moldovan', 'Ruxandra Scarlatescu', 'Roxana Epure', 'Cristian Adamescu', 'Elena Andronescu'], 'Sali': ['ED009', 'ED063', 'EG363', 'EC138']}, 'MS': {'Nr. studenti': 545, 'Profesori': ['Pavel Georgescu', 'Cristian Moldovan', 'Mihai Dumitrescu', 'Vlad Epure', 'Pavel Vasilescu', 'Cristian Adamescu', 'Denisa Popa', 'Roxana Popescu', 'Alexandru Vasilescu', 'Ruxandra Chiriac', 'Alexandru Ilie'], 'Sali': ['ED009', 'ED063', 'EG363', 'EC138']}, 'PCom': {'Nr. studenti': 510, 'Profesori': ['Mihai Dumitrescu', 'Vlad Epure', 'Pavel Vasilescu', 'Roxana Epure', 'Andrei Ionescu', 'Denisa Popa', 'Elena Andronescu', 'Ruxandra Chiriac'], 'Sali': ['ED027', 'ED063', 'EG363']}, 'PM': {'Nr. studenti': 500, 'Profesori': ['Petru Chiriac', 'Ruxandra Georgescu', 'Andrei Ionescu', 'Ruxandra Chiriac', 'Alexandru Ilie'], 'Sali': ['EC138']}, 'SOC': {'Nr. studenti': 520, 'Profesori': ['Roxana Georgescu', 'Ioana Chiriac', 'Cristian Moldovan', 'Madalina Dumitrescu', 'Mihai Moldovan', 'Ruxandra Scarlatescu', 'Denisa Popa', 'Roxana Popescu', 'Alexandru Vasilescu', 'Alexandru Ilie'], 'Sali': ['ED009', 'ED027', 'EG363', 'EC138']}}, 'Profesori': {'Alexandru Ilie': {'Constrangeri': (['Luni', 'Marti', 'Miercuri', 'Joi', 'Vineri'], [(10, 12), (12, 14), (14, 16), (16, 18), (18, 20)], 0), 'Materii': ['PM', 'SOC', 'MS']}, 'Alexandru Vasilescu': {'Constrangeri': (['Luni', 'Marti', 'Miercuri', 'Joi', 'Vineri'], [(8, 10), (10, 12), (12, 14), (18, 20)], 4), 'Materii': ['MS', 'SOC']}, 'Andrei Ionescu': {'Constrangeri': (['Luni', 'Marti', 'Miercuri', 'Vineri'], [(8, 10), (10, 12), (14, 16), (16, 18)], None), 'Materii': ['PM', 'PCom']}, 'Cristian Adamescu': {'Constrangeri': (['Luni', 'Marti', 'Miercuri', 'Joi'], [(8, 10), (10, 12), (16, 18), (18, 20)], 4), 'Materii': ['DS', 'MS']}, 'Cristian Moldovan': {'Constrangeri': (['Luni', 'Miercuri', 'Joi'], [(8, 10), (12, 14), (18, 20)], None), 'Materii': ['MS', 'SOC']}, 'Denisa Popa': {'Constrangeri': (['Luni', 'Marti', 'Miercuri', 'Joi'], [(8, 10), (10, 12), (16, 18), (18, 20)], 6), 'Materii': ['PCom', 'MS', 'SOC']}, 'Elena Andronescu': {'Constrangeri': (['Luni', 'Marti', 'Miercuri', 'Vineri'], [(10, 12), (12, 14), (14, 16), (16, 18), (18, 20)], 4), 'Materii': ['DS', 'PCom']}, 'Elena Stoica': {'Constrangeri': (['Miercuri', 'Vineri'], [(18, 20)], None), 'Materii': ['DS']}, 'Ioana Chiriac': {'Constrangeri': (['Luni', 'Joi', 'Vineri'], [(14, 16), (18, 20)], 0), 'Materii': ['SOC']}, 'Madalina Dumitrescu': {'Constrangeri': (['Marti', 'Joi', 'Vineri'], [(10, 12), (12, 14), (14, 16)], 0), 'Materii': ['SOC']}, 'Mihai Dumitrescu': {'Constrangeri': (['Marti', 'Miercuri', 'Joi', 'Vineri'], [(8, 10), (10, 12), (12, 14)], 0), 'Materii': ['PCom', 'MS']}, 'Mihai Moldovan': {'Constrangeri': (['Luni', 'Miercuri', 'Joi'], [(8, 10), (10, 12), (12, 14), (14, 16)], 0), 'Materii': ['DS', 'SOC']}, 'Pavel Georgescu': {'Constrangeri': (['Luni', 'Joi'], [(8, 10), (10, 12)], 0), 'Materii': ['MS']}, 'Pavel Vasilescu': {'Constrangeri': (['Luni', 'Miercuri', 'Joi'], [(10, 12), (12, 14), (14, 16), (16, 18), (18, 20)], 2), 'Materii': ['MS', 'PCom']}, 'Petru Chiriac': {'Constrangeri': (['Marti'], [(8, 10)], None), 'Materii': ['PM']}, 'Roxana Epure': {'Constrangeri': (['Luni', 'Miercuri', 'Joi'], [(10, 12), (12, 14), (14, 16), (16, 18), (18, 20)], 2), 'Materii': ['DS', 'PCom']}, 'Roxana Georgescu': {'Constrangeri': (['Marti', 'Miercuri'], [(8, 10), (16, 18)], 6), 'Materii': ['SOC']}, 'Roxana Popescu': {'Constrangeri': (['Marti', 'Miercuri', 'Joi', 'Vineri'], [(8, 10), (10, 12), (14, 16), (18, 20)], 2), 'Materii': ['SOC', 'MS']}, 'Ruxandra Chiriac': {'Constrangeri': (['Luni', 'Marti', 'Joi', 'Vineri'], [(8, 10), (10, 12), (12, 14), (14, 16), (16, 18), (18, 20)], 0), 'Materii': ['MS', 'PCom', 'PM']}, 'Ruxandra Georgescu': {'Constrangeri': (['Marti', 'Miercuri', 'Joi', 'Vineri'], [(8, 10), (14, 16), (16, 18)], 6), 'Materii': ['PM']}, 'Ruxandra Scarlatescu': {'Constrangeri': (['Marti', 'Miercuri', 'Vineri'], [(8, 10), (12, 14), (14, 16), (16, 18)], 4), 'Materii': ['DS', 'SOC']}, 'Sergiu Adamescu': {'Constrangeri': (['Luni'], [(12, 14)], None), 'Materii': ['DS']}, 'Vlad Epure': {'Constrangeri': (['Luni', 'Marti', 'Vineri'], [(8, 10), (12, 14), (14, 16), (16, 18)], 4), 'Materii': ['MS', 'PCom']}}, 'Sali': {'EC138': {'Capacitate': 50, 'Materii': ['SOC', 'DS', 'MS', 'PM']}, 'ED009': {'Capacitate': 15, 'Materii': ['SOC', 'DS', 'MS']}, 'ED027': {'Capacitate': 15, 'Materii': ['SOC', 'PCom']}, 'ED063': {'Capacitate': 15, 'Materii': ['MS', 'PCom', 'DS']}, 'EG363': {'Capacitate': 15, 'Materii': ['PCom', 'SOC', 'MS', 'DS']}}, 'Ordine profesori': ['Petru Chiriac', 'Sergiu Adamescu', 'Elena Stoica', 'Pavel Georgescu', 'Roxana Georgescu', 'Ioana Chiriac', 'Cristian Moldovan', 'Madalina Dumitrescu', 'Mihai Dumitrescu', 'Mihai Moldovan', 'Ruxandra Georgescu', 'Ruxandra Scarlatescu', 'Vlad Epure', 'Pavel Vasilescu', 'Roxana Epure', 'Andrei Ionescu', 'Cristian Adamescu', 'Denisa Popa', 'Roxana Popescu', 'Alexandru Vasilescu', 'Elena Andronescu', 'Ruxandra Chiriac', 'Alexandru Ilie']}\n"
     ]
    }
   ],
   "source": [
    "class Conditions:\n",
    "    ''' Parses the data from a file and builds a general dictionary for the algorithms to use '''\n",
    "    \n",
    "    def __init__(self, filename=f'inputs/dummy.yaml'):\n",
    "        self.filename = filename\n",
    "        self.dict = {}\n",
    "    \n",
    "    # keep only valid entries from \"Constrangeri\"\n",
    "    def filter_constraints(self, c_list):\n",
    "        days = []\n",
    "        intervals = []\n",
    "        pause = None\n",
    "\n",
    "        for item in c_list:\n",
    "            if not item.startswith('!'):\n",
    "                if '-' in item:\n",
    "                    # split intervals and convert to tuples\n",
    "                    start, end = map(int, item.split('-'))\n",
    "                    intervals.extend([(i, i+2) for i in range(start, end, 2)])\n",
    "                else:\n",
    "                    # add the day to the list\n",
    "                    days.append(item)\n",
    "            elif 'Pauza' in item:\n",
    "                pause = int(item.split(' ')[2])\n",
    "        \n",
    "        # pause is None if no such constraint exists\n",
    "        return days, intervals, pause\n",
    "    \n",
    "    def parse_data(self):\n",
    "        ''' Arrange the data as needed '''\n",
    "        timetable_specs = utils.read_yaml_file(self.filename)\n",
    "        self.dict[ZILE] = timetable_specs[ZILE]  \n",
    "        day_occurrences = {day: 0 for day in self.dict[ZILE]}\n",
    "        \n",
    "        # generate tuples from comma separated strings\n",
    "        self.dict[INTERVALE] = list(map(lambda x: tuple(map(int, x.strip('()').split(', '))), timetable_specs[INTERVALE]))\n",
    "        interval_occurrences = {interval: 0 for interval in self.dict[INTERVALE]}\n",
    "        \n",
    "        # initialize each subject's details\n",
    "        self.dict[MATERII] = {}\n",
    "        \n",
    "        for materie in timetable_specs[MATERII]:\n",
    "            self.dict[MATERII][materie] = {}\n",
    "            self.dict[MATERII][materie][STUDENTI] = timetable_specs[MATERII][materie]\n",
    "            self.dict[MATERII][materie][PROFESORI] = []\n",
    "            self.dict[MATERII][materie][SALI] = []\n",
    "        \n",
    "        self.dict[PROFESORI] = timetable_specs[PROFESORI]\n",
    "        for prof, val in self.dict[PROFESORI].items():\n",
    "            for materie in val[MATERII]:\n",
    "                self.dict[MATERII][materie][PROFESORI].append(prof)\n",
    "            \n",
    "            # also count dta for the frequence of the intervals\n",
    "            self.dict[PROFESORI][prof][CONSTRANGERI] = self.filter_constraints(self.dict[PROFESORI][prof][CONSTRANGERI])\n",
    "            for day in self.dict[PROFESORI][prof][CONSTRANGERI][0]:\n",
    "                day_occurrences[day] += 1\n",
    "            for interval in self.dict[PROFESORI][prof][CONSTRANGERI][1]:\n",
    "                interval_occurrences[interval] += 1\n",
    "        \n",
    "        # sort the days and intervals based on preference\n",
    "        day_occurrences = sorted(day_occurrences.items(), key=lambda x: x[1])\n",
    "        self.dict[ZILE] = [day for day, _ in day_occurrences]\n",
    "        \n",
    "        interval_occurrences = sorted(interval_occurrences.items(), key=lambda x: x[1])\n",
    "        self.dict[INTERVALE] = [interval for interval, _ in interval_occurrences]\n",
    "            \n",
    "        # for each subject order the teachers based on the number of intervals they can teach in\n",
    "        for materie in self.dict[MATERII]:\n",
    "            self.dict[MATERII][materie][PROFESORI] = sorted(self.dict[MATERII][materie][PROFESORI],\n",
    "                key=lambda prof: len(self.dict[PROFESORI][prof][CONSTRANGERI][0]) * len(self.dict[PROFESORI][prof][CONSTRANGERI][1]))\n",
    "                \n",
    "        self.dict[SALI] = timetable_specs[SALI]\n",
    "        for sala, val in self.dict[SALI].items():\n",
    "            for materie in val[MATERII]:\n",
    "                self.dict[MATERII][materie][SALI].append(sala)\n",
    "        \n",
    "        # sort the rooms in ascending order\n",
    "        for materie in self.dict[MATERII]:\n",
    "            self.dict[MATERII][materie][SALI] = sorted(self.dict[MATERII][materie][SALI],\n",
    "                key=lambda room: self.dict[SALI][room]['Capacitate'])\n",
    "        \n",
    "                \n",
    "        # order all the teachers based on the number of intervals they can teach in\n",
    "        self.dict[TEACHER_ORDER] = []\n",
    "        for prof in self.dict[PROFESORI].keys():\n",
    "            self.dict[TEACHER_ORDER].append(prof)\n",
    "        self.dict[TEACHER_ORDER] = sorted(self.dict[TEACHER_ORDER],\n",
    "            key=lambda prof: len(self.dict[PROFESORI][prof][CONSTRANGERI][0]) * len(self.dict[PROFESORI][prof][CONSTRANGERI][1]))\n",
    "            \n",
    "cond = Conditions(f'inputs/orar_bonus_exact.yaml')\n",
    "cond.parse_data()\n",
    "print(cond.dict)"
   ]
  },
  {
   "cell_type": "markdown",
   "metadata": {},
   "source": [
    "### State definition"
   ]
  },
  {
   "cell_type": "code",
   "execution_count": 15,
   "metadata": {},
   "outputs": [],
   "source": [
    "class State:\n",
    "    ''' Encapsulation of the board and other utils '''\n",
    "    def __init__(\n",
    "        self,\n",
    "        timetable_specs,\n",
    "        board,\n",
    "        conflicts,\n",
    "        cost,\n",
    "        unassigned,\n",
    "        teacher_week_count,\n",
    "        filename=f'inputs/orar_mic_exact.yaml',\n",
    "        seed = 42,\n",
    "    ) -> None:\n",
    "        self.timetable_specs = timetable_specs\n",
    "        self.filename = filename\n",
    "        self.board = board if board is not None else self.generate_board()\n",
    "        \n",
    "        # soft conflicts counter\n",
    "        self.nconflicts = conflicts if conflicts is not None else self.__compute_initial_conflicts()\n",
    "        \n",
    "        # cost for unassigned students basically\n",
    "        self.cost = cost if cost is not None else sum([self.timetable_specs[MATERII][materie][STUDENTI] for materie in self.timetable_specs[MATERII]])\n",
    "        self.unassigned = unassigned if unassigned is not None else self.get_ordered_subjects_rooms_teachers_students()\n",
    "        self.teacher_week_count = teacher_week_count if teacher_week_count is not None else self.build_week_count()\n",
    "    \n",
    "    def generate_board(self):\n",
    "        ''' Generate an empty, but initialized board '''\n",
    "        board = {}\n",
    "    \n",
    "        for day in self.timetable_specs[ZILE]:\n",
    "            board[day] = {}\n",
    "            for interval in self.timetable_specs[INTERVALE]:\n",
    "                board[day][interval] = {}\n",
    "                for room in self.timetable_specs[SALI]:\n",
    "                    board[day][interval][room] = None\n",
    "        return board\n",
    "    \n",
    "    def get_ordered_subjects_rooms_teachers_students(self):\n",
    "        ''' Order the subjects based on a succession of criteria '''\n",
    "        tuples = [(materie, self.timetable_specs[MATERII][materie][STUDENTI]) for materie in self.timetable_specs[MATERII]]\n",
    "        return sorted(tuples, key=lambda x: (len(self.timetable_specs[MATERII][x[0]][SALI]),\n",
    "                                             len(self.timetable_specs[MATERII][x[0]][PROFESORI]),\n",
    "                                             self.timetable_specs[MATERII][x[0]][STUDENTI]\n",
    "                                             ))\n",
    "    \n",
    "    def build_week_count(self):\n",
    "        ''' Initialize how many intervals a teacher has '''\n",
    "        ret = {}\n",
    "        for prof, _ in self.timetable_specs[PROFESORI].items():\n",
    "            ret[prof] = 0\n",
    "        return ret\n",
    "    \n",
    "    def __compute_initial_conflicts(self):\n",
    "        ''' Initial Soft conflicts '''\n",
    "        return 0\n",
    "    \n",
    "    def is_final(self) -> bool:\n",
    "        ''' is final if we have all students assigned '''\n",
    "        for (_, no_stud) in self.unassigned:\n",
    "            if no_stud > 0:\n",
    "                return False\n",
    "        return True\n",
    "    \n",
    "    def display(self, output_dir = 'outputs_hill'):\n",
    "        ''' Generate a _board that is in the suitable printing format and write into a new file '''\n",
    "        \n",
    "        _board = deepcopy(self.board)\n",
    "        day_values = {'Luni':1, 'Marti':2, 'Miercuri':3, 'Joi':4, 'Vineri':5}\n",
    "        _board = {key: value for key, value in sorted(_board.items(), key=lambda x: day_values[x[0]])}\n",
    "        \n",
    "        interval_values = {(8, 10):1, (10, 12):2, (12, 14):3, (14, 16):4, (16, 18):5, (18, 20): 6}\n",
    "        for day in _board:\n",
    "            _board[day] = {key: value for key, value in sorted(_board[day].items(), key=lambda x: interval_values[x[0]])}\n",
    "        \n",
    "        output_filename = self.filename.replace('inputs', output_dir)\n",
    "        output_filename = output_filename.replace('yaml', 'txt')\n",
    "        directory = os.path.dirname(output_filename)\n",
    "\n",
    "        # Create the directory if it doesn't exist\n",
    "        if not os.path.exists(directory):\n",
    "            os.makedirs(directory)\n",
    "        \n",
    "        # write the table into it\n",
    "        with open(output_filename, 'w') as file:\n",
    "            file.write(utils.pretty_print_timetable(_board, self.filename))\n",
    "        return _board\n",
    "        \n",
    "    def clone(self) -> State:\n",
    "        return State(self.timetable_specs, deepcopy(self.board), self.nconflicts, self.cost, \n",
    "                     deepcopy(self.unassigned), deepcopy(self.teacher_week_count), self.filename)\n",
    "    \n",
    "    def heuristic_eval(self):\n",
    "        ''' Comparison formula for the neoghbours '''\n",
    "        return 2 * self.cost + self.nconflicts\n",
    "    \n",
    "    def get_next_states(self):\n",
    "        ret = []\n",
    "        for (new_subject, no_stud) in self.unassigned:\n",
    "            if no_stud > 0:\n",
    "                for day in self.timetable_specs[ZILE]:\n",
    "                    for interval in self.timetable_specs[INTERVALE]:\n",
    "                        for teacher in self.timetable_specs[MATERII][new_subject][PROFESORI]:\n",
    "                            if self.teacher_week_count[teacher] >= 7:\n",
    "                                continue\n",
    "                            for room in self.timetable_specs[MATERII][new_subject][SALI]:\n",
    "                                ok = 1\n",
    "                                \n",
    "                                # check if the teacher already has a slot in that interval\n",
    "                                for other_room in self.timetable_specs[SALI]:\n",
    "                                    if room != other_room and self.board[day][interval][other_room] is not None \\\n",
    "                                        and self.board[day][interval][other_room][0] == teacher:\n",
    "                                            ok = 0\n",
    "                                            break\n",
    "                                # the teacher does not teach in that interval in another room\n",
    "                                if ok == 1:\n",
    "                                    ret.append(self.fill_occupied_slot(day, interval, room, teacher, new_subject))\n",
    "        return ret\n",
    "    \n",
    "    def check_failed_optional_constraint(self, day, interval, new_teacher):\n",
    "        ''' count new soft conflicts created by this state '''\n",
    "        total = 0\n",
    "        if day not in self.timetable_specs[PROFESORI][new_teacher][CONSTRANGERI][0]:\n",
    "            total += 5\n",
    "        if interval not in self.timetable_specs[PROFESORI][new_teacher][CONSTRANGERI][1]:\n",
    "            total += 2\n",
    "        \n",
    "        if self.timetable_specs[PROFESORI][new_teacher][CONSTRANGERI][PAUSES] is not None:\n",
    "            last_end_time = None\n",
    "            last_start_time = None\n",
    "            _start = interval[0]\n",
    "            _end = interval[1]\n",
    "            end_times = []\n",
    "            start_times = []\n",
    "            \n",
    "            interval_values = {(8, 10):1, (10, 12):2, (12, 14):3, (14, 16):4, (16, 18):5, (18, 20): 6}\n",
    "            for other_interval in interval_values.keys():\n",
    "                for room in self.board[day][other_interval]:\n",
    "                    if self.board[day][interval][room]:\n",
    "                        crt_prof, _ = self.board[day][interval][room]\n",
    "                        if new_teacher == crt_prof:\n",
    "                            end_times.append(other_interval[1])\n",
    "                            start_times.append(other_interval[0])\n",
    "                            \n",
    "            for end in end_times:\n",
    "                if end < _start:\n",
    "                    last_end_time = end\n",
    "            if last_end_time is not None:\n",
    "                if _start - last_end_time > self.timetable_specs[PROFESORI][new_teacher][CONSTRANGERI][PAUSES]:\n",
    "                    total += 2 * (_start - last_end_time - self.timetable_specs[PROFESORI][new_teacher][CONSTRANGERI][PAUSES])\n",
    "                    \n",
    "            for start in start_times:\n",
    "                if start > _end:\n",
    "                    last_start_time = start\n",
    "                    break\n",
    "            if last_start_time is not None:\n",
    "                if last_start_time - _end > self.timetable_specs[PROFESORI][new_teacher][CONSTRANGERI][PAUSES]:\n",
    "                    total += 2 * (last_start_time - _end - self.timetable_specs[PROFESORI][new_teacher][CONSTRANGERI][PAUSES])\n",
    "        return total\n",
    "    \n",
    "    # add a group of students from a subject to an empty room\n",
    "    # check if an optional constraint has been denied (_conflicts + 1)\n",
    "    # reduce the number of students unassigned\n",
    "    def fill_empty_slot(self, day, interval, room, new_teacher, subject):\n",
    "        new_state = deepcopy(self.board)\n",
    "        _cost = self.cost\n",
    "        _unassigned = deepcopy(self.unassigned)\n",
    "        _conflicts = self.nconflicts\n",
    "        _teacher_wk_count = deepcopy(self.teacher_week_count)\n",
    "        _teacher_wk_count[new_teacher] += 1\n",
    "        \n",
    "        new_state[day][interval][room] = (new_teacher, subject)\n",
    "        _conflicts += self.check_failed_optional_constraint(day, interval, new_teacher)\n",
    "                \n",
    "        for i, (sub, no) in enumerate(_unassigned):\n",
    "            if sub == subject:\n",
    "                # we might get with negative students assigned, it is OK\n",
    "                subtract = self.timetable_specs[SALI][room]['Capacitate']\n",
    "                _unassigned[i] = (sub, no - subtract)\n",
    "                _cost -= subtract\n",
    "                if _unassigned[i][1] < 0:\n",
    "                    # it's actually an increase in cost\n",
    "                    _cost -= _unassigned[i][1]\n",
    "                break\n",
    "        return State(self.timetable_specs, new_state, _conflicts, _cost, _unassigned, _teacher_wk_count, self.filename)\n",
    "    \n",
    "    # add a group of students back to unassigned to make room for new ones\n",
    "    def fill_occupied_slot(self, day, interval, room, new_teacher, new_subject):\n",
    "        new_state = deepcopy(self.board)\n",
    "        if new_state[day][interval][room] is None:\n",
    "            return self.fill_empty_slot(day, interval, room, new_teacher, new_subject)\n",
    "        _cost = self.cost\n",
    "        _unassigned = deepcopy(self.unassigned)\n",
    "        _conflicts = self.nconflicts\n",
    "        \n",
    "        (old_teacher, old_subject) = new_state[day][interval][room]\n",
    "        new_state[day][interval][room] = (new_teacher, new_subject)\n",
    "        \n",
    "        _teacher_wk_count = deepcopy(self.teacher_week_count)\n",
    "        _teacher_wk_count[new_teacher] += 1\n",
    "        _teacher_wk_count[old_teacher] -= 1\n",
    "        \n",
    "        _conflicts -= self.check_failed_optional_constraint(day, interval, old_teacher)\n",
    "            \n",
    "        for i, (sub, no) in enumerate(_unassigned):\n",
    "            if sub == old_subject:\n",
    "                add = self.timetable_specs[SALI][room]['Capacitate']\n",
    "                _cost += add\n",
    "                _unassigned[i] = (sub, no + add)\n",
    "            if sub == new_subject:\n",
    "                subtract = self.timetable_specs[SALI][room]['Capacitate']\n",
    "                _cost -= subtract\n",
    "                _unassigned[i] = (sub, no - subtract)\n",
    "        \n",
    "        \n",
    "        return State(self.timetable_specs, new_state, _conflicts, _cost, _unassigned, _teacher_wk_count, self.filename)\n"
   ]
  },
  {
   "cell_type": "markdown",
   "metadata": {},
   "source": [
    "### Make a run environment, just like in lab"
   ]
  },
  {
   "cell_type": "code",
   "execution_count": 16,
   "metadata": {},
   "outputs": [],
   "source": [
    "statistics = {}\n",
    "def run_test(method: Callable, filename: str, **kwargs) -> None:\n",
    "    ''' Testeaza un algoritm (method) din fisierul filename '''\n",
    "    \n",
    "    # parse the file and generate initial state\n",
    "    cond = Conditions(filename)\n",
    "    cond.parse_data()\n",
    "    initial = State(cond.dict, None, None, None, None, None, filename, seed=random.random())\n",
    "    \n",
    "    is_final, iters, states, state = method(initial, **kwargs)\n",
    "    \n",
    "    # write output and check conflicts\n",
    "    _board = state.display()\n",
    "    print(\"Number of HARD restrictions failed:\")\n",
    "    print(check_constraints.check_mandatory_constraints(_board, utils.read_yaml_file(state.filename)))\n",
    "    print(\"Number of SOFT restrictions failed:\")\n",
    "    print(check_constraints.check_optional_constraints(_board, utils.read_yaml_file(state.filename)))\n",
    "    \n",
    "    print(f\"Number of iterations: {iters:,}\")\n",
    "    print(f\"Number of states generated: {states:,}\")\n",
    "    stat = {\n",
    "        \"final_state\": is_final,\n",
    "        \"iter\": iters,\n",
    "        \"nums\": states\n",
    "    }\n",
    "    statistics[filename] = stat"
   ]
  },
  {
   "cell_type": "markdown",
   "metadata": {},
   "source": [
    "### Basic HC"
   ]
  },
  {
   "cell_type": "code",
   "execution_count": 17,
   "metadata": {},
   "outputs": [],
   "source": [
    "def hill_climbing(initial: State, max_iters: int = 250):\n",
    "    ''' hill climbing best first method '''\n",
    "    iters, states = 0, 0\n",
    "    state = initial.clone()\n",
    "    \n",
    "    # put a threshold for the number of iterations\n",
    "    while iters < max_iters:\n",
    "        iters += 1\n",
    "        next_states = state.get_next_states()\n",
    "        new_states_no = len(next_states)\n",
    "        if new_states_no == 0:\n",
    "            break\n",
    "        states += new_states_no\n",
    "        \n",
    "        # get best next state\n",
    "        best_state = min(next_states, key=lambda x: x.heuristic_eval())\n",
    "        if best_state.heuristic_eval() >= state.heuristic_eval():\n",
    "            break\n",
    "        \n",
    "        state = best_state\n",
    "        \n",
    "    return state.is_final(), iters, states, state"
   ]
  },
  {
   "cell_type": "markdown",
   "metadata": {},
   "source": [
    "### Hill Climbing - Dummy"
   ]
  },
  {
   "cell_type": "code",
   "execution_count": 18,
   "metadata": {},
   "outputs": [
    {
     "name": "stdout",
     "output_type": "stream",
     "text": [
      "Number of HARD restrictions failed:\n",
      "0\n",
      "Number of SOFT restrictions failed:\n",
      "0\n",
      "Number of iterations: 12\n",
      "Number of states generated: 544\n",
      "CPU times: total: 62.5 ms\n",
      "Wall time: 64 ms\n"
     ]
    }
   ],
   "source": [
    "%time run_test(hill_climbing, f'inputs/dummy.yaml')"
   ]
  },
  {
   "cell_type": "markdown",
   "metadata": {},
   "source": [
    "### Hill Climbing - Mic"
   ]
  },
  {
   "cell_type": "code",
   "execution_count": 19,
   "metadata": {},
   "outputs": [
    {
     "name": "stdout",
     "output_type": "stream",
     "text": [
      "Number of HARD restrictions failed:\n",
      "0\n",
      "Number of SOFT restrictions failed:\n",
      "0\n",
      "Number of iterations: 34\n",
      "Number of states generated: 20,535\n",
      "CPU times: total: 4.86 s\n",
      "Wall time: 4.86 s\n"
     ]
    }
   ],
   "source": [
    "%time run_test(hill_climbing, f'inputs/orar_mic_exact.yaml')"
   ]
  },
  {
   "cell_type": "markdown",
   "metadata": {},
   "source": [
    "### Hill Climbing - Mediu"
   ]
  },
  {
   "cell_type": "code",
   "execution_count": 20,
   "metadata": {},
   "outputs": [
    {
     "name": "stdout",
     "output_type": "stream",
     "text": [
      "Number of HARD restrictions failed:\n",
      "0\n",
      "Number of SOFT restrictions failed:\n",
      "0\n",
      "Number of iterations: 48\n",
      "Number of states generated: 146,677\n",
      "CPU times: total: 48 s\n",
      "Wall time: 47.9 s\n"
     ]
    }
   ],
   "source": [
    "%time run_test(hill_climbing, f'inputs/orar_mediu_relaxat.yaml')"
   ]
  },
  {
   "cell_type": "markdown",
   "metadata": {},
   "source": [
    "### Hill Climbing - Mare"
   ]
  },
  {
   "cell_type": "code",
   "execution_count": 21,
   "metadata": {},
   "outputs": [
    {
     "name": "stdout",
     "output_type": "stream",
     "text": [
      "Number of HARD restrictions failed:\n",
      "0\n",
      "Number of SOFT restrictions failed:\n",
      "0\n",
      "Number of iterations: 52\n",
      "Number of states generated: 379,176\n",
      "CPU times: total: 2min 35s\n",
      "Wall time: 2min 36s\n"
     ]
    }
   ],
   "source": [
    "%time run_test(hill_climbing, f'inputs/orar_mare_relaxat.yaml')"
   ]
  },
  {
   "cell_type": "markdown",
   "metadata": {},
   "source": [
    "### Hill Climbing - Constrans"
   ]
  },
  {
   "cell_type": "code",
   "execution_count": 22,
   "metadata": {},
   "outputs": [
    {
     "name": "stdout",
     "output_type": "stream",
     "text": [
      "Number of HARD restrictions failed:\n",
      "0\n",
      "Number of SOFT restrictions failed:\n",
      "0\n",
      "Number of iterations: 55\n",
      "Number of states generated: 79,082\n",
      "CPU times: total: 19.7 s\n",
      "Wall time: 19.8 s\n"
     ]
    }
   ],
   "source": [
    "%time run_test(hill_climbing, f'inputs/orar_constrans_incalcat.yaml')"
   ]
  },
  {
   "cell_type": "markdown",
   "metadata": {},
   "source": [
    "### Hill Climbing - Bonus"
   ]
  },
  {
   "cell_type": "code",
   "execution_count": 23,
   "metadata": {},
   "outputs": [
    {
     "name": "stdout",
     "output_type": "stream",
     "text": [
      "Number of HARD restrictions failed:\n",
      "0\n",
      "Number of SOFT restrictions failed:\n",
      "Profesorul Denisa Popa are pauza prea mare de la 10 pana la 18!\n",
      "Profesorul Mihai Moldovan are pauza prea mare de la 12 pana la 14!\n",
      "Profesorul Ruxandra Chiriac are pauza prea mare de la 10 pana la 12!\n",
      "Profesorul Ruxandra Chiriac are pauza prea mare de la 16 pana la 18!\n",
      "Profesorul Ruxandra Chiriac are pauza prea mare de la 14 pana la 18!\n",
      "5\n",
      "Number of iterations: 105\n",
      "Number of states generated: 325,196\n",
      "CPU times: total: 2min 4s\n",
      "Wall time: 2min 4s\n"
     ]
    }
   ],
   "source": [
    "%time run_test(hill_climbing, f'inputs/orar_bonus_exact.yaml')"
   ]
  },
  {
   "cell_type": "markdown",
   "metadata": {},
   "source": [
    "# MCTS states and functions"
   ]
  },
  {
   "cell_type": "code",
   "execution_count": 71,
   "metadata": {},
   "outputs": [],
   "source": [
    "class AlterState:\n",
    "    def __init__(\n",
    "        self,\n",
    "        timetable_specs,\n",
    "        board,\n",
    "        conflicts,\n",
    "        cost,\n",
    "        unassigned,\n",
    "        teacher_week_count,\n",
    "        filename=f'inputs/orar_mic_exact.yaml',\n",
    "        seed = 42,\n",
    "    ) -> None:\n",
    "        self.timetable_specs = timetable_specs\n",
    "        self.filename = filename\n",
    "        self.board = board if board is not None else self.generate_board()\n",
    "        \n",
    "        # save the output to avoid further computation for next states and the probabilities for them\n",
    "        self.next_states_list = None\n",
    "        \n",
    "        # soft conflicts counter\n",
    "        self.nconflicts = conflicts if conflicts is not None else self.__compute_initial_conflicts()\n",
    "        \n",
    "        # cost for unassigned students basically\n",
    "        self.cost = cost if cost is not None else sum([self.timetable_specs[MATERII][materie][STUDENTI] for materie in self.timetable_specs[MATERII]])\n",
    "        self.unassigned = unassigned if unassigned is not None else self.get_ordered_subjects_rooms_teachers_students()\n",
    "        self.teacher_week_count = teacher_week_count if teacher_week_count is not None else self.build_week_count()\n",
    "        \n",
    "    def generate_board(self):\n",
    "        ''' Generate an empty, but initialized board '''\n",
    "        board = {}\n",
    "    \n",
    "        for day in self.timetable_specs[ZILE]:\n",
    "            board[day] = {}\n",
    "            for interval in self.timetable_specs[INTERVALE]:\n",
    "                board[day][interval] = {}\n",
    "                for room in self.timetable_specs[SALI]:\n",
    "                    board[day][interval][room] = None\n",
    "        return board\n",
    "    \n",
    "    def get_ordered_subjects_rooms_teachers_students(self):\n",
    "        ''' Order the subjects based on a succession of criteria '''\n",
    "        tuples = [(materie, self.timetable_specs[MATERII][materie][STUDENTI]) for materie in self.timetable_specs[MATERII]]\n",
    "        return sorted(tuples, key=lambda x: (len(self.timetable_specs[MATERII][x[0]][SALI]),\n",
    "                                             len(self.timetable_specs[MATERII][x[0]][PROFESORI]),\n",
    "                                             self.timetable_specs[MATERII][x[0]][STUDENTI]\n",
    "                                             ))\n",
    "    \n",
    "    @staticmethod\n",
    "    def generate_exponential_distribution(n, ratio=1.5):\n",
    "        ''' generate probabilities, stating the first elements should occur more '''\n",
    "        lambdas = np.array([1 / (ratio ** i) for i in range(n)], dtype=float)\n",
    "    \n",
    "        # Normalize lambdas to ensure the sum equals 1\n",
    "        lambdas /= np.sum(lambdas)\n",
    "        return lambdas\n",
    "    \n",
    "    def build_week_count(self):\n",
    "        ''' Initialize how many intervals a teacher has '''\n",
    "        ret = {}\n",
    "        for prof, _ in self.timetable_specs[PROFESORI].items():\n",
    "            ret[prof] = 0\n",
    "        return ret\n",
    "    \n",
    "    def __compute_initial_conflicts(self):\n",
    "        \"\"\" Initialize soft conflicts with 0\"\"\"\n",
    "        return 0\n",
    "    \n",
    "    def heuristic_eval(self):\n",
    "        ''' compute the potential of the next states '''\n",
    "        return self.cost + self.nconflicts\n",
    "    \n",
    "    def is_final(self) -> bool:\n",
    "        available_states = self.get_available_states()\n",
    "        if len(available_states) == 0:\n",
    "            return True\n",
    "        for (_, no_stud) in self.unassigned:\n",
    "            if no_stud > 0:\n",
    "                return False\n",
    "        return True\n",
    "    \n",
    "    def display(self, output_dir = 'outputs_mcts'):\n",
    "        ''' write the timetable to a new file'''\n",
    "        \n",
    "        _board = deepcopy(self.board)\n",
    "        day_values = {'Luni':1, 'Marti':2, 'Miercuri':3, 'Joi':4, 'Vineri':5}\n",
    "        _board = {key: value for key, value in sorted(_board.items(), key=lambda x: day_values[x[0]])}\n",
    "        \n",
    "        interval_values = {(8, 10):1, (10, 12):2, (12, 14):3, (14, 16):4, (16, 18):5, (18, 20): 6}\n",
    "        for day in _board:\n",
    "            _board[day] = {key: value for key, value in sorted(_board[day].items(), key=lambda x: interval_values[x[0]])}\n",
    "        \n",
    "        output_filename = self.filename.replace('inputs', output_dir)\n",
    "        output_filename = output_filename.replace('yaml', 'txt')\n",
    "        directory = os.path.dirname(output_filename)\n",
    "\n",
    "        # Create the directory if it doesn't exist\n",
    "        if not os.path.exists(directory):\n",
    "            os.makedirs(directory)\n",
    "        \n",
    "        # write the table into it\n",
    "        with open(output_filename, 'w') as file:\n",
    "            file.write(utils.pretty_print_timetable(_board, self.filename))\n",
    "        return _board\n",
    "    \n",
    "    # add a group of students from a subject to an empty room\n",
    "    # check if an optional constraint has been denied (_conflicts + 1)\n",
    "    # reduce the number of students unassigned\n",
    "    def fill_empty_slot(self, day, interval, room, new_teacher, subject):\n",
    "        new_state = deepcopy(self.board)\n",
    "        _cost = self.cost\n",
    "        _unassigned = deepcopy(self.unassigned)\n",
    "        _conflicts = self.nconflicts\n",
    "        _teacher_wk_count = deepcopy(self.teacher_week_count)\n",
    "        _teacher_wk_count[new_teacher] += 1\n",
    "        \n",
    "        new_state[day][interval][room] = (new_teacher, subject)\n",
    "        _conflicts += self.check_failed_optional_constraint(day, interval, new_teacher)\n",
    "                \n",
    "        for i, (sub, no) in enumerate(_unassigned):\n",
    "            if sub == subject:\n",
    "                # we might get with negative students assigned, it is OK\n",
    "                subtract = self.timetable_specs[SALI][room]['Capacitate']\n",
    "                _cost -= subtract\n",
    "                _unassigned[i] = (sub, no - subtract)\n",
    "                if _unassigned[i][1] < 0:\n",
    "                    # it's actually an increase in cost\n",
    "                    _cost -= _unassigned[i][1]\n",
    "                break\n",
    "        return AlterState(self.timetable_specs, new_state, _conflicts, _cost, _unassigned, _teacher_wk_count, self.filename)\n",
    "    \n",
    "    def compute_possible_cost(self, day, interval, room, new_teacher, subject):\n",
    "        _cost = self.cost\n",
    "        _conflicts = self.nconflicts\n",
    "        _conflicts += self.check_failed_optional_constraint(day, interval, new_teacher)\n",
    "        for _, (sub, no) in enumerate(self.unassigned):\n",
    "            if sub == subject:\n",
    "                # we might get with negative students assigned, it is OK\n",
    "                subtract = self.timetable_specs[SALI][room]['Capacitate']\n",
    "                _cost -= subtract\n",
    "                if (no - subtract) < 0:\n",
    "                    _cost -= (no - subtract)\n",
    "                break\n",
    "        return _cost + _conflicts\n",
    "    \n",
    "    def check_failed_optional_constraint(self, day, interval, new_teacher):\n",
    "        ''' Compute how many optional constraints the next move fails '''\n",
    "        \n",
    "        total = 0\n",
    "        if day not in self.timetable_specs[PROFESORI][new_teacher][CONSTRANGERI][0]:\n",
    "            total += 5\n",
    "        if interval not in self.timetable_specs[PROFESORI][new_teacher][CONSTRANGERI][1]:\n",
    "            total += 2\n",
    "            \n",
    "        if self.timetable_specs[PROFESORI][new_teacher][CONSTRANGERI][PAUSES] is not None:\n",
    "            last_end_time = None\n",
    "            last_start_time = None\n",
    "            _start = interval[0]\n",
    "            _end = interval[1]\n",
    "            end_times = []\n",
    "            start_times = []\n",
    "            \n",
    "            interval_values = {(8, 10):1, (10, 12):2, (12, 14):3, (14, 16):4, (16, 18):5, (18, 20): 6}\n",
    "            for other_interval in interval_values.keys():\n",
    "                for room in self.board[day][other_interval]:\n",
    "                    if self.board[day][interval][room]:\n",
    "                        crt_prof, _ = self.board[day][interval][room]\n",
    "                        if new_teacher == crt_prof:\n",
    "                            end_times.append(other_interval[1])\n",
    "                            start_times.append(other_interval[0])\n",
    "                            \n",
    "            for end in end_times:\n",
    "                if end < _start:\n",
    "                    last_end_time = end\n",
    "            if last_end_time is not None:\n",
    "                if _start - last_end_time > self.timetable_specs[PROFESORI][new_teacher][CONSTRANGERI][PAUSES]:\n",
    "                    total += 2 * (_start - last_end_time - self.timetable_specs[PROFESORI][new_teacher][CONSTRANGERI][PAUSES])\n",
    "                    \n",
    "            for start in start_times:\n",
    "                if start > _end:\n",
    "                    last_start_time = start\n",
    "                    break\n",
    "            if last_start_time is not None:\n",
    "                if last_start_time - _end > self.timetable_specs[PROFESORI][new_teacher][CONSTRANGERI][PAUSES]:\n",
    "                    total += 2 * (last_start_time - _end - self.timetable_specs[PROFESORI][new_teacher][CONSTRANGERI][PAUSES])\n",
    "        \n",
    "        return total\n",
    "    \n",
    "    def get_available_states(self):\n",
    "        ''' get the next neighbours '''\n",
    "        if self.next_states_list is not None:\n",
    "            return self.next_states_list\n",
    "        ret = []\n",
    "        for (new_subject, no_stud) in self.unassigned:\n",
    "            if no_stud > 0:\n",
    "                for day in self.timetable_specs[ZILE]:\n",
    "                    for interval in self.timetable_specs[INTERVALE]:\n",
    "                        for teacher in self.timetable_specs[MATERII][new_subject][PROFESORI]:\n",
    "                            if self.teacher_week_count[teacher] >= 7:\n",
    "                                continue\n",
    "                            for room in self.timetable_specs[MATERII][new_subject][SALI]:\n",
    "                                # check if the slot is empty\n",
    "                                if self.board[day][interval][room] is not None:\n",
    "                                    continue\n",
    "                                \n",
    "                                ok = 1  \n",
    "                                # check if the teacher already has a slot in that interval\n",
    "                                for other_room in self.timetable_specs[SALI]:\n",
    "                                    if room != other_room and self.board[day][interval][other_room] is not None \\\n",
    "                                        and self.board[day][interval][other_room][0] == teacher:\n",
    "                                            ok = 0\n",
    "                                            break\n",
    "                                # the teacher does not teach in that interval in another room\n",
    "                                if ok == 1:\n",
    "                                    ret.append((self.compute_possible_cost(day, interval, room, teacher, new_subject), (day, interval, room, teacher, new_subject)))\n",
    "                                    \n",
    "        ret = sorted(ret, key=lambda x: x[0])[:min(len(ret), 15)]\n",
    "        self.next_states_list = ret\n",
    "        return ret\n",
    "    \n",
    "    def other_display(self, output_dir = 'custom_outputs'):\n",
    "        ''' output to a custom file '''\n",
    "        _board = deepcopy(self.board)\n",
    "        day_values = {'Luni':1, 'Marti':2, 'Miercuri':3, 'Joi':4, 'Vineri':5}\n",
    "        _board = {key: value for key, value in sorted(_board.items(), key=lambda x: day_values[x[0]])}\n",
    "        \n",
    "        interval_values = {(8, 10):1, (10, 12):2, (12, 14):3, (14, 16):4, (16, 18):5, (18, 20): 6}\n",
    "        for day in _board:\n",
    "            _board[day] = {key: value for key, value in sorted(_board[day].items(), key=lambda x: interval_values[x[0]])}\n",
    "        \n",
    "        output_filename = self.filename.replace('inputs', output_dir)\n",
    "        output_filename = output_filename.replace('yaml', 'txt')\n",
    "        directory = output_dir\n",
    "\n",
    "        # Create the directory if it doesn't exist\n",
    "        if not os.path.exists(directory):\n",
    "            os.makedirs(directory)\n",
    "        \n",
    "        # write the table into it\n",
    "        with open(output_filename, 'a') as file:\n",
    "            file.write(utils.pretty_print_timetable(_board, self.filename))\n",
    "            file.write(\"Number of HARD restrictions failed:\\n\")\n",
    "            file.write(str(check_constraints.check_mandatory_constraints(_board, check_constraints.read_yaml_file(self.filename))) + '\\n')\n",
    "            file.write(\"Number of SOFT restrictions failed:\\n\")\n",
    "            file.write(str(check_constraints.check_optional_constraints(_board, check_constraints.read_yaml_file(self.filename))) + '\\n')\n",
    "    \n"
   ]
  },
  {
   "cell_type": "markdown",
   "metadata": {},
   "source": [
    "### Just some basic run to test the functionality of the methods"
   ]
  },
  {
   "cell_type": "code",
   "execution_count": 72,
   "metadata": {},
   "outputs": [],
   "source": [
    "cond = Conditions(f'inputs/orar_mic_exact.yaml')\n",
    "cond.parse_data()\n",
    "state = AlterState(cond.dict, None, None, None, None, None, f'inputs/orar_mic_exact.yaml', seed=random.random())\n",
    "state_dict = {}\n",
    "while not state.is_final():\n",
    "    possible_states = state.get_available_states()\n",
    "    if len(possible_states) == 0:\n",
    "        break\n",
    "    state = state.fill_empty_slot(*(random.choice(possible_states)[ARGUMENTS]))\n",
    "    \n",
    "_board = state.display('outputs_mcts')"
   ]
  },
  {
   "cell_type": "markdown",
   "metadata": {},
   "source": [
    "### Initial node and selection criteria"
   ]
  },
  {
   "cell_type": "code",
   "execution_count": 73,
   "metadata": {},
   "outputs": [
    {
     "name": "stdout",
     "output_type": "stream",
     "text": [
      "[1 0 0 3 1 1 0 0 0 0 4 0 0 3 0 3 0 1 2 0]\n"
     ]
    }
   ],
   "source": [
    "def init_node(state, parent = None):\n",
    "    return {N: 0, Q: 0, STATE: state, PARENT: parent, ACTIONS: {}}\n",
    "\n",
    "def select_action_index(node, c = CP):\n",
    "    N_node = node[N]\n",
    "    scores_list = list(map(lambda entry: (entry[0], entry[1][Q] / entry[1][N] + c * sqrt(2 * log(N_node) / entry[1][N])), node[ACTIONS].items()))\n",
    "    return reduce(lambda a, b: a if a[1] > b[1] else b, scores_list)[0]\n",
    "\n",
    "def next_subject_to_complete(state):\n",
    "    for i, (_, no_stud) in enumerate(state.unassigned):\n",
    "        if no_stud > 0:\n",
    "            return i\n",
    "\n",
    "probabilities = AlterState.generate_exponential_distribution(n=15, ratio=2)\n",
    "action = np.random.choice(np.arange(15), size=20, p=probabilities)\n",
    "print(action)"
   ]
  },
  {
   "cell_type": "markdown",
   "metadata": {},
   "source": [
    "### MCTS per se"
   ]
  },
  {
   "cell_type": "code",
   "execution_count": 74,
   "metadata": {},
   "outputs": [],
   "source": [
    "def mcts(state0, budget, tree, ratio=1.5):\n",
    "    \n",
    "    states_considered = 0\n",
    "    states_generated = 0\n",
    "    \n",
    "    # initialize tree if necessary\n",
    "    if tree is None:\n",
    "        tree = init_node(state0)\n",
    "    \n",
    "    for _ in range(budget):\n",
    "        node = tree\n",
    "        \n",
    "        # list of tuples (cost, tuple of arguments for the buildup of the next state)\n",
    "        actions_list = None\n",
    "        \n",
    "        # selection\n",
    "        while True:\n",
    "            if node[STATE].is_final():\n",
    "                break\n",
    "            \n",
    "            # list of tuples (cost, tuple of arguments for the buildup of the next state)\n",
    "            actions_list = node[STATE].get_available_states()\n",
    "            if len(list(filter(lambda x: actions_list.index(x) in node[ACTIONS].keys(), actions_list))) != len(actions_list):\n",
    "                break\n",
    "            \n",
    "            action_index = select_action_index(node)\n",
    "            node = node[ACTIONS][action_index]\n",
    "        \n",
    "        # expansion\n",
    "        if not node[STATE].is_final():\n",
    "            list_to_choose_from = list(filter(lambda x: x not in node[ACTIONS].keys(), range(len(actions_list))))\n",
    "            n = len(list_to_choose_from)\n",
    "            probabilities = AlterState.generate_exponential_distribution(n=n, ratio=ratio)\n",
    "            action = np.random.choice(np.arange(n), size=1, p=probabilities)[0]\n",
    "            node[ACTIONS][action] = init_node(node[STATE].fill_empty_slot(*(actions_list[action][ARGUMENTS])), parent=node)\n",
    "            node = node[ACTIONS][action]\n",
    "            \n",
    "        # simulation\n",
    "        state = node[STATE]\n",
    "        \n",
    "        while (not state.is_final()):\n",
    "            list_to_choose_from = state.get_available_states()\n",
    "            n = len(list_to_choose_from)\n",
    "            probabilities = AlterState.generate_exponential_distribution(n=n, ratio=ratio)\n",
    "            action = np.random.choice(np.arange(n), size=1, p=probabilities)[0]\n",
    "            state = state.fill_empty_slot(*(list_to_choose_from[action][ARGUMENTS]))\n",
    "            states_considered += n\n",
    "            states_generated += 1\n",
    "            \n",
    "        # reward\n",
    "        if state.nconflicts != 0:\n",
    "            reward = state.nconflicts * (-10)\n",
    "        else:\n",
    "            reward = 300\n",
    "            \n",
    "        # reward propagation\n",
    "        while node:\n",
    "            node[N] = node[N] + 1\n",
    "            node[Q] = node[Q] + reward\n",
    "            node = node[PARENT]\n",
    "    \n",
    "    # choose the best action/state\n",
    "    # tree is not None\n",
    "    final_action = select_action_index(tree, 0.0)\n",
    "    return states_considered, states_generated, tree[ACTIONS][final_action]"
   ]
  },
  {
   "cell_type": "markdown",
   "metadata": {},
   "source": [
    "### More tests"
   ]
  },
  {
   "cell_type": "code",
   "execution_count": 75,
   "metadata": {},
   "outputs": [
    {
     "name": "stdout",
     "output_type": "stream",
     "text": [
      "{'N': 1, 'Q': -40, 'state': <__main__.AlterState object at 0x000001BF02B646D0>, 'parent': {'N': 1, 'Q': -40, 'state': <__main__.AlterState object at 0x000001BF02B65540>, 'parent': None, 'actions': {0: {...}}}, 'actions': {}}\n"
     ]
    }
   ],
   "source": [
    "cond = Conditions(f'inputs/dummy.yaml')\n",
    "cond.parse_data()\n",
    "state0 = AlterState(cond.dict, None, None, None, None, None, f'inputs/dummy.yaml', seed=random.random())\n",
    "state_dict = {}\n",
    "\n",
    "states_considered, states_generated, tree = mcts(state0, 1, None, ratio=1.5)\n",
    "print(tree)"
   ]
  },
  {
   "cell_type": "markdown",
   "metadata": {},
   "source": [
    "### Running environment MCTS"
   ]
  },
  {
   "cell_type": "code",
   "execution_count": 76,
   "metadata": {},
   "outputs": [],
   "source": [
    "def run_mcts(filename, budget=10, ratio=1.5):\n",
    "    cond = Conditions(filename)\n",
    "    cond.parse_data()\n",
    "    state = AlterState(cond.dict, None, None, None, None, None, filename, seed=random.random())\n",
    "    \n",
    "    tree = None\n",
    "    iters = 0\n",
    "    states_considered = 0\n",
    "    states_generated = 0\n",
    "    while state and not state.is_final():\n",
    "        iters += 1\n",
    "        s1, s2, tree = mcts(state, budget, tree, ratio)\n",
    "        state = tree[STATE]\n",
    "        states_considered += s1\n",
    "        states_generated += s2\n",
    "    \n",
    "    _board = state.display('outputs_mcts')\n",
    "    print(\"Number of HARD restrictions failed:\")\n",
    "    print(check_constraints.check_mandatory_constraints(_board, utils.read_yaml_file(state.filename)))\n",
    "    print(\"Number of SOFT restrictions failed:\")\n",
    "    print(check_constraints.check_optional_constraints(_board, utils.read_yaml_file(state.filename)))\n",
    "    print(f\"Number of iterations: {iters:,}\")\n",
    "    print(f\"Number of states taken into consideration as simulation options: {states_considered:,}\")\n",
    "    print(f\"Number of states actually generated: {states_generated:,}\")"
   ]
  },
  {
   "cell_type": "markdown",
   "metadata": {},
   "source": [
    "### MCTS - Dummy"
   ]
  },
  {
   "cell_type": "code",
   "execution_count": 50,
   "metadata": {},
   "outputs": [
    {
     "name": "stdout",
     "output_type": "stream",
     "text": [
      "Number of HARD restrictions failed:\n",
      "0\n",
      "Number of SOFT restrictions failed:\n",
      "0\n",
      "Number of iterations: 11\n",
      "Number of states taken into consideration as simulation options: 49,481\n",
      "Number of states actually generated: 3,300\n",
      "CPU times: total: 625 ms\n",
      "Wall time: 622 ms\n"
     ]
    }
   ],
   "source": [
    "%time run_mcts(f'inputs/dummy.yaml', budget=60, ratio=2.3)"
   ]
  },
  {
   "cell_type": "markdown",
   "metadata": {},
   "source": [
    "### MCTS - Mic"
   ]
  },
  {
   "cell_type": "code",
   "execution_count": 51,
   "metadata": {},
   "outputs": [
    {
     "name": "stdout",
     "output_type": "stream",
     "text": [
      "Number of HARD restrictions failed:\n",
      "0\n",
      "Number of SOFT restrictions failed:\n",
      "0\n",
      "Number of iterations: 33\n",
      "Number of states taken into consideration as simulation options: 158,400\n",
      "Number of states actually generated: 10,560\n",
      "CPU times: total: 7.16 s\n",
      "Wall time: 7.15 s\n"
     ]
    }
   ],
   "source": [
    "%time run_mcts(f'inputs/orar_mic_exact.yaml', budget=20, ratio=2)"
   ]
  },
  {
   "cell_type": "markdown",
   "metadata": {},
   "source": [
    "### MCTS - Mediu"
   ]
  },
  {
   "cell_type": "code",
   "execution_count": 52,
   "metadata": {},
   "outputs": [
    {
     "name": "stdout",
     "output_type": "stream",
     "text": [
      "Number of HARD restrictions failed:\n",
      "0\n",
      "Number of SOFT restrictions failed:\n",
      "0\n",
      "Number of iterations: 47\n",
      "Number of states taken into consideration as simulation options: 324,300\n",
      "Number of states actually generated: 21,620\n",
      "CPU times: total: 1min 36s\n",
      "Wall time: 1min 36s\n"
     ]
    }
   ],
   "source": [
    "%time run_mcts(f'inputs/orar_mediu_relaxat.yaml', budget=20, ratio=2)"
   ]
  },
  {
   "cell_type": "markdown",
   "metadata": {},
   "source": [
    "### MCTS - Mare"
   ]
  },
  {
   "cell_type": "code",
   "execution_count": 53,
   "metadata": {},
   "outputs": [
    {
     "name": "stdout",
     "output_type": "stream",
     "text": [
      "Number of HARD restrictions failed:\n",
      "0\n",
      "Number of SOFT restrictions failed:\n",
      "0\n",
      "Number of iterations: 51\n",
      "Number of states taken into consideration as simulation options: 382,500\n",
      "Number of states actually generated: 25,500\n",
      "CPU times: total: 5min 16s\n",
      "Wall time: 5min 17s\n"
     ]
    }
   ],
   "source": [
    "%time run_mcts(f'inputs/orar_mare_relaxat.yaml', budget=20, ratio=1.5)"
   ]
  },
  {
   "cell_type": "markdown",
   "metadata": {},
   "source": [
    "### MCTS - Constrans"
   ]
  },
  {
   "cell_type": "code",
   "execution_count": 57,
   "metadata": {},
   "outputs": [
    {
     "name": "stdout",
     "output_type": "stream",
     "text": [
      "Number of HARD restrictions failed:\n",
      "0\n",
      "Number of SOFT restrictions failed:\n",
      "0\n",
      "Number of iterations: 54\n",
      "Number of states taken into consideration as simulation options: 1,073,280\n",
      "Number of states actually generated: 71,552\n",
      "CPU times: total: 1min 21s\n",
      "Wall time: 1min 21s\n"
     ]
    }
   ],
   "source": [
    "%time run_mcts(f'inputs/orar_constrans_incalcat.yaml', budget=50, ratio=2)"
   ]
  },
  {
   "cell_type": "markdown",
   "metadata": {},
   "source": [
    "### MCTS - Bonus"
   ]
  },
  {
   "cell_type": "code",
   "execution_count": 58,
   "metadata": {},
   "outputs": [
    {
     "name": "stdout",
     "output_type": "stream",
     "text": [
      "Number of HARD restrictions failed:\n",
      "0\n",
      "Number of SOFT restrictions failed:\n",
      "Profesorul Cristian Adamescu are pauza prea mare de la 10 pana la 16!\n",
      "Profesorul Roxana Popescu are pauza prea mare de la 10 pana la 14!\n",
      "Profesorul Roxana Popescu are pauza prea mare de la 10 pana la 14!\n",
      "3\n",
      "Number of iterations: 104\n",
      "Number of states taken into consideration as simulation options: 803,370\n",
      "Number of states actually generated: 53,558\n",
      "CPU times: total: 6min 47s\n",
      "Wall time: 6min 47s\n"
     ]
    }
   ],
   "source": [
    "%time run_mcts(f'inputs/orar_bonus_exact.yaml', budget=10, ratio=2.3)"
   ]
  },
  {
   "cell_type": "markdown",
   "metadata": {},
   "source": [
    "### MCTS - Bonus - mai bine decat hill\n",
    "##### Rulat inaintea implementarii calculului de iteratii, bagand in seama doar urmatoarea materie necompletata"
   ]
  },
  {
   "cell_type": "code",
   "execution_count": 71,
   "metadata": {},
   "outputs": [
    {
     "name": "stdout",
     "output_type": "stream",
     "text": [
      "Number of HARD restrictions failed:\n",
      "0\n",
      "Number of SOFT restrictions failed:\n",
      "Profesorul Alexandru Ilie are pauza prea mare de la 14 pana la 16!\n",
      "Profesorul Roxana Epure are pauza prea mare de la 14 pana la 18!\n",
      "Profesorul Ruxandra Chiriac are pauza prea mare de la 12 pana la 16!\n",
      "3\n",
      "CPU times: total: 2min 4s\n",
      "Wall time: 2min 5s\n"
     ]
    }
   ],
   "source": [
    "%time run_mcts(f'inputs/orar_bonus_exact.yaml', budget=10, ratio=2.3)"
   ]
  },
  {
   "cell_type": "markdown",
   "metadata": {},
   "source": [
    "# Multiple MCTS custom runs"
   ]
  },
  {
   "cell_type": "code",
   "execution_count": 89,
   "metadata": {},
   "outputs": [],
   "source": [
    "def run_custom(filename, budget=10, ratio=1.5, runs=10):\n",
    "    cond = Conditions(filename)\n",
    "    cond.parse_data()\n",
    "    \n",
    "    for i in range(runs):\n",
    "        print('--------------------------------------------')\n",
    "        print(f'Iter no. {i + 1}:')\n",
    "        \n",
    "        state = AlterState(cond.dict, None, None, None, None, None, filename, seed=random.random())\n",
    "        \n",
    "        tree = None\n",
    "        iters = 0\n",
    "        states_considered = 0\n",
    "        states_generated = 0\n",
    "        while state and not state.is_final():\n",
    "            iters += 1\n",
    "            s1, s2, tree = mcts(state, budget, tree, ratio)\n",
    "            state = tree[STATE]\n",
    "            states_considered += s1\n",
    "            states_generated += s2\n",
    "        \n",
    "        _board = state.other_display()\n",
    "        print(f\"Number of iterations: {iters:,}\")\n",
    "        print(f\"Number of states taken into consideration as simulation options: {states_considered:,}\")\n",
    "        print(f\"Number of states actually generated: {states_generated:,}\")"
   ]
  },
  {
   "cell_type": "markdown",
   "metadata": {},
   "source": [
    "##### Total time for 10 runs will be displayed (and the errors, since they are printed and not added to file)"
   ]
  },
  {
   "cell_type": "code",
   "execution_count": 93,
   "metadata": {},
   "outputs": [
    {
     "name": "stdout",
     "output_type": "stream",
     "text": [
      "--------------------------------------------\n",
      "Iter no. 1:\n",
      "Number of iterations: 11\n",
      "Number of states taken into consideration as simulation options: 41,167\n",
      "Number of states actually generated: 2,750\n",
      "--------------------------------------------\n",
      "Iter no. 2:\n",
      "Number of iterations: 11\n",
      "Number of states taken into consideration as simulation options: 40,244\n",
      "Number of states actually generated: 2,750\n",
      "--------------------------------------------\n",
      "Iter no. 3:\n",
      "Number of iterations: 11\n",
      "Number of states taken into consideration as simulation options: 39,728\n",
      "Number of states actually generated: 2,750\n",
      "--------------------------------------------\n",
      "Iter no. 4:\n",
      "Number of iterations: 11\n",
      "Number of states taken into consideration as simulation options: 40,980\n",
      "Number of states actually generated: 2,750\n",
      "--------------------------------------------\n",
      "Iter no. 5:\n",
      "Number of iterations: 11\n",
      "Number of states taken into consideration as simulation options: 39,782\n",
      "Number of states actually generated: 2,750\n",
      "--------------------------------------------\n",
      "Iter no. 6:\n",
      "Number of iterations: 11\n",
      "Number of states taken into consideration as simulation options: 41,089\n",
      "Number of states actually generated: 2,750\n",
      "--------------------------------------------\n",
      "Iter no. 7:\n",
      "Number of iterations: 11\n",
      "Number of states taken into consideration as simulation options: 40,312\n",
      "Number of states actually generated: 2,750\n",
      "--------------------------------------------\n",
      "Iter no. 8:\n",
      "Number of iterations: 11\n",
      "Number of states taken into consideration as simulation options: 40,980\n",
      "Number of states actually generated: 2,750\n",
      "--------------------------------------------\n",
      "Iter no. 9:\n",
      "Profesorul Pavel Filipescu nu dorește să predea în intervalul (8, 10)!\n",
      "Number of iterations: 11\n",
      "Number of states taken into consideration as simulation options: 40,059\n",
      "Number of states actually generated: 2,750\n",
      "--------------------------------------------\n",
      "Iter no. 10:\n",
      "Number of iterations: 11\n",
      "Number of states taken into consideration as simulation options: 41,174\n",
      "Number of states actually generated: 2,750\n",
      "CPU times: total: 5.11 s\n",
      "Wall time: 5.15 s\n"
     ]
    }
   ],
   "source": [
    "%time run_custom(f'inputs/dummy.yaml', budget=50, ratio=2, runs=10)"
   ]
  },
  {
   "cell_type": "code",
   "execution_count": 88,
   "metadata": {},
   "outputs": [
    {
     "name": "stdout",
     "output_type": "stream",
     "text": [
      "--------------------------------------------\n",
      "Iter no. 1:\n",
      "--------------------------------------------\n",
      "Iter no. 2:\n",
      "--------------------------------------------\n",
      "Iter no. 3:\n",
      "--------------------------------------------\n",
      "Iter no. 4:\n",
      "Profesorul Ioana Chiriac nu dorește să predea în intervalul (18, 20)!\n",
      "--------------------------------------------\n",
      "Iter no. 5:\n",
      "Profesorul Mihai Epure nu dorește să predea în intervalul (14, 16)!\n",
      "--------------------------------------------\n",
      "Iter no. 6:\n",
      "--------------------------------------------\n",
      "Iter no. 7:\n",
      "Profesorul Cristian Andronescu nu dorește să predea în intervalul (14, 16)!\n",
      "Profesorul Mihai Epure nu dorește să predea în intervalul (14, 16)!\n",
      "Profesorul Ruxandra Andronescu nu dorește să predea în intervalul (18, 20)!\n",
      "--------------------------------------------\n",
      "Iter no. 8:\n",
      "Profesorul Ioana Chiriac nu dorește să predea în intervalul (14, 16)!\n",
      "--------------------------------------------\n",
      "Iter no. 9:\n",
      "Profesorul Madalina Popa nu dorește să predea în intervalul (14, 16)!\n",
      "--------------------------------------------\n",
      "Iter no. 10:\n",
      "Profesorul Ruxandra Andronescu nu dorește să predea în intervalul (16, 18)!\n",
      "CPU times: total: 10min 51s\n",
      "Wall time: 10min 52s\n"
     ]
    }
   ],
   "source": [
    "%time run_custom(f'inputs/orar_constrans_incalcat.yaml', budget=40, ratio=2, runs=10)"
   ]
  },
  {
   "cell_type": "code",
   "execution_count": 92,
   "metadata": {},
   "outputs": [
    {
     "name": "stdout",
     "output_type": "stream",
     "text": [
      "--------------------------------------------\n",
      "Iter no. 1:\n",
      "Profesorul Alexandru Ilie are pauza prea mare de la 16 pana la 18!\n",
      "Profesorul Alexandru Ilie are pauza prea mare de la 16 pana la 18!\n",
      "Profesorul Cristian Adamescu are pauza prea mare de la 10 pana la 16!\n",
      "Profesorul Pavel Georgescu nu dorește să predea în intervalul (14, 16)!\n",
      "Profesorul Pavel Georgescu are pauza prea mare de la 12 pana la 14!\n",
      "Profesorul Roxana Epure are pauza prea mare de la 14 pana la 18!\n",
      "Profesorul Roxana Popescu are pauza prea mare de la 10 pana la 18!\n",
      "Number of iterations: 104\n",
      "Number of states taken into consideration as simulation options: 803,280\n",
      "Number of states actually generated: 53,552\n",
      "--------------------------------------------\n",
      "Iter no. 2:\n",
      "Profesorul Alexandru Ilie are pauza prea mare de la 14 pana la 18!\n",
      "Profesorul Cristian Adamescu are pauza prea mare de la 12 pana la 18!\n",
      "Profesorul Mihai Moldovan are pauza prea mare de la 10 pana la 12!\n",
      "Profesorul Roxana Popescu are pauza prea mare de la 10 pana la 14!\n",
      "Profesorul Ruxandra Chiriac are pauza prea mare de la 10 pana la 14!\n",
      "Number of iterations: 104\n",
      "Number of states taken into consideration as simulation options: 803,340\n",
      "Number of states actually generated: 53,556\n",
      "--------------------------------------------\n",
      "Iter no. 3:\n",
      "Profesorul Alexandru Ilie are pauza prea mare de la 12 pana la 18!\n",
      "Profesorul Alexandru Vasilescu are pauza prea mare de la 12 pana la 18!\n",
      "Profesorul Mihai Moldovan are pauza prea mare de la 10 pana la 12!\n",
      "Profesorul Ruxandra Chiriac are pauza prea mare de la 14 pana la 18!\n",
      "Profesorul Ruxandra Chiriac are pauza prea mare de la 10 pana la 12!\n",
      "Number of iterations: 104\n",
      "Number of states taken into consideration as simulation options: 803,370\n",
      "Number of states actually generated: 53,558\n",
      "--------------------------------------------\n",
      "Iter no. 4:\n",
      "Profesorul Alexandru Ilie are pauza prea mare de la 14 pana la 16!\n",
      "Profesorul Alexandru Ilie are pauza prea mare de la 14 pana la 18!\n",
      "Profesorul Alexandru Vasilescu are pauza prea mare de la 12 pana la 18!\n",
      "Profesorul Cristian Adamescu are pauza prea mare de la 10 pana la 16!\n",
      "Profesorul Mihai Moldovan are pauza prea mare de la 10 pana la 12!\n",
      "Profesorul Roxana Popescu are pauza prea mare de la 10 pana la 14!\n",
      "Number of iterations: 104\n",
      "Number of states taken into consideration as simulation options: 803,370\n",
      "Number of states actually generated: 53,558\n",
      "--------------------------------------------\n",
      "Iter no. 5:\n",
      "Profesorul Alexandru Ilie are pauza prea mare de la 16 pana la 18!\n",
      "Profesorul Madalina Dumitrescu are pauza prea mare de la 12 pana la 14!\n",
      "Profesorul Mihai Moldovan are pauza prea mare de la 10 pana la 12!\n",
      "Profesorul Roxana Popescu are pauza prea mare de la 12 pana la 18!\n",
      "Profesorul Ruxandra Chiriac are pauza prea mare de la 12 pana la 18!\n",
      "Profesorul Ruxandra Chiriac are pauza prea mare de la 12 pana la 14!\n",
      "Number of iterations: 104\n",
      "Number of states taken into consideration as simulation options: 803,370\n",
      "Number of states actually generated: 53,558\n",
      "--------------------------------------------\n",
      "Iter no. 6:\n",
      "Profesorul Alexandru Ilie are pauza prea mare de la 16 pana la 18!\n",
      "Profesorul Alexandru Ilie are pauza prea mare de la 12 pana la 16!\n",
      "Profesorul Roxana Popescu are pauza prea mare de la 12 pana la 18!\n",
      "Number of iterations: 104\n",
      "Number of states taken into consideration as simulation options: 803,340\n",
      "Number of states actually generated: 53,556\n",
      "--------------------------------------------\n",
      "Iter no. 7:\n",
      "Profesorul Alexandru Ilie are pauza prea mare de la 16 pana la 18!\n",
      "Profesorul Cristian Adamescu are pauza prea mare de la 10 pana la 16!\n",
      "Profesorul Denisa Popa are pauza prea mare de la 10 pana la 18!\n",
      "Profesorul Elena Andronescu are pauza prea mare de la 12 pana la 18!\n",
      "Profesorul Mihai Moldovan are pauza prea mare de la 10 pana la 12!\n",
      "Number of iterations: 104\n",
      "Number of states taken into consideration as simulation options: 803,340\n",
      "Number of states actually generated: 53,556\n",
      "--------------------------------------------\n",
      "Iter no. 8:\n",
      "Profesorul Cristian Adamescu are pauza prea mare de la 10 pana la 16!\n",
      "Profesorul Elena Andronescu are pauza prea mare de la 12 pana la 18!\n",
      "Profesorul Mihai Dumitrescu are pauza prea mare de la 10 pana la 12!\n",
      "Profesorul Mihai Moldovan are pauza prea mare de la 10 pana la 14!\n",
      "Profesorul Roxana Popescu are pauza prea mare de la 12 pana la 18!\n",
      "Profesorul Ruxandra Chiriac are pauza prea mare de la 14 pana la 18!\n",
      "Profesorul Ruxandra Chiriac are pauza prea mare de la 12 pana la 14!\n",
      "Number of iterations: 104\n",
      "Number of states taken into consideration as simulation options: 803,340\n",
      "Number of states actually generated: 53,556\n",
      "--------------------------------------------\n",
      "Iter no. 9:\n",
      "Profesorul Alexandru Ilie are pauza prea mare de la 14 pana la 16!\n",
      "Profesorul Alexandru Ilie are pauza prea mare de la 14 pana la 16!\n",
      "Profesorul Roxana Popescu are pauza prea mare de la 10 pana la 14!\n",
      "Profesorul Ruxandra Chiriac are pauza prea mare de la 14 pana la 16!\n",
      "Number of iterations: 104\n",
      "Number of states taken into consideration as simulation options: 803,355\n",
      "Number of states actually generated: 53,557\n",
      "--------------------------------------------\n",
      "Iter no. 10:\n",
      "Profesorul Alexandru Ilie are pauza prea mare de la 16 pana la 18!\n",
      "Number of iterations: 104\n",
      "Number of states taken into consideration as simulation options: 803,355\n",
      "Number of states actually generated: 53,557\n",
      "CPU times: total: 1h 6min 11s\n",
      "Wall time: 1h 6min 13s\n"
     ]
    }
   ],
   "source": [
    "%time run_custom(f'inputs/orar_bonus_exact.yaml', budget=10, ratio=2, runs=10)"
   ]
  },
  {
   "cell_type": "code",
   "execution_count": 94,
   "metadata": {},
   "outputs": [
    {
     "name": "stdout",
     "output_type": "stream",
     "text": [
      "--------------------------------------------\n",
      "Iter no. 1:\n",
      "Profesorul Alexandru Ilie are pauza prea mare de la 14 pana la 18!\n",
      "Profesorul Cristian Adamescu are pauza prea mare de la 10 pana la 16!\n",
      "Profesorul Mihai Moldovan are pauza prea mare de la 10 pana la 12!\n",
      "Profesorul Roxana Popescu are pauza prea mare de la 10 pana la 14!\n",
      "Number of iterations: 104\n",
      "Number of states taken into consideration as simulation options: 2,409,735\n",
      "Number of states actually generated: 160,649\n",
      "CPU times: total: 19min 50s\n",
      "Wall time: 19min 51s\n"
     ]
    }
   ],
   "source": [
    "%time run_custom(f'inputs/orar_bonus_exact.yaml', budget=30, ratio=2, runs=1)"
   ]
  }
 ],
 "metadata": {
  "kernelspec": {
   "display_name": "Python 3",
   "language": "python",
   "name": "python3"
  },
  "language_info": {
   "codemirror_mode": {
    "name": "ipython",
    "version": 3
   },
   "file_extension": ".py",
   "mimetype": "text/x-python",
   "name": "python",
   "nbconvert_exporter": "python",
   "pygments_lexer": "ipython3",
   "version": "3.10.3"
  }
 },
 "nbformat": 4,
 "nbformat_minor": 2
}
